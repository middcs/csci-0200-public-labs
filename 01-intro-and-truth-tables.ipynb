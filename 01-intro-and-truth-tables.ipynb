{
 "cells": [
  {
   "cell_type": "markdown",
   "metadata": {
    "id": "qDPzjbS9OYW_"
   },
   "source": [
    "# Lab 1: Mathematical Writing and Truth Tables\n",
    "\n",
    "- [Your name] \n",
    "- [The name of one of your group members]\n",
    "- [The name of your other group member]"
   ]
  },
  {
   "cell_type": "markdown",
   "execution_count": null,
   "metadata": {
    "id": "bHDvOwWKOYXB"
   },
   "outputs": [],
   "source": [
    "**Learning Objectives**:\n",
    "\n",
    "In this lab, \n",
    "\n",
    "- You'll practice writing mathematical formulas using LaTeX syntax. \n",
    "- You'll compare the complexity of different equivalent logical expressions. \n",
    "- You'll translate back and forth between logical mathematical expressions and Python code.\n",
    "\n",
    "*Note: This lab is different! During lab time, I will usually expect you **not** to work on your laptops, and instead work on whiteboards. Today, because typing mathematics is part of the learning goal, I want to make sure you have some time to practice that in class.*\n",
    "\n",
    "**Working in Groups**: \n",
    "\n",
    "*During class, please make sure that every group member has completed and understood a part before moving on!*\n",
    "\n",
    "**Assessment**: \n",
    "\n",
    "Labs are assessed according to [the posted EMRN rubric](https://www.philchodrow.prof/CSCI-0200/pages/lab-assessment.html)."
   ]
  },
  {
   "cell_type": "markdown",
   "execution_count": null,
   "metadata": {
    "id": "ALVdEW9QOYXB"
   },
   "outputs": [],
   "source": [
    "# Part A: Writing Markdown\n",
    "\n",
    "Your lab notebook is in Google Colab, which runs interactive Jupyter notebooks. In these notebooks you can write prose, mathematics, and code. First, let's focus on writing prose and mathematics.\n",
    "\n",
    "Writing in Google Colab is powered by Markdown. Markdown is a lightweight markup language for creating static text. Markdown allows you to write **bold** or *italic* text,\n",
    "\n",
    "- text\n",
    "- in\n",
    "- unnumbered\n",
    "- lists,\n",
    "\n",
    "1. or\n",
    "2. numbered\n",
    "3. lists,\n",
    "\n",
    "and even\n",
    "\n",
    "### Headers.\n",
    "\n",
    "Here is a [cheatsheet](https://github.com/adam-p/markdown-here/wiki/Markdown-Cheatsheet) for common Markdown syntax."
   ]
  },
  {
   "cell_type": "markdown",
   "execution_count": null,
   "metadata": {
    "id": "wOGQ7iP2OYXC"
   },
   "outputs": [],
   "source": [
    "## Exercise 1\n",
    "\n",
    "A *group norm* is a shared, mutually-agreed upon expectation to which all group members will be held. In this part of the activity, you'll agree on several group norms and write them using Markdown formatting.\n",
    "\n",
    "First, you're going to copy our core group norms. Make a new Markdown cell directly below this one. In that cell, use Markdown to replicate the following block of text.\n",
    "\n",
    "![](https://github.com/PhilChodrow/CSCI-0200/blob/main/assets/img/pics/norms.png?raw=1)\n",
    "\n",
    "[Make a new Markdown cell right below this note!]"
   ]
  },
  {
   "cell_type": "markdown",
   "execution_count": null,
   "metadata": {},
   "outputs": [],
   "source": []
  },
  {
   "cell_type": "markdown",
   "execution_count": null,
   "metadata": {
    "id": "CVo6_kRROYXC"
   },
   "outputs": [],
   "source": [
    "## Exercise 2\n",
    "\n",
    "Now, take 5 minutes to brainstorm **at least 2 new group norms**. Add them to your Markdown list above. You don't need to copy your list down to this part."
   ]
  },
  {
   "cell_type": "markdown",
   "execution_count": null,
   "metadata": {
    "id": "MJV6Y6xcOYXC"
   },
   "outputs": [],
   "source": [
    "# Part B: Writing Math\n",
    "\n",
    "You can write mathematics in Google Colab's Markdown engine by enclosing special commands inside `$` dollar signs `$`. For example, the command\n",
    "\n",
    "`$p \\lor q$`\n",
    "\n",
    "entered into a Markdown cell will render in Colab as\n",
    "\n",
    "$p \\lor q$\n",
    "\n",
    "Here, the string `\\lor` (\"**l**ogical **or**\") is a special string that, when rendered, gives the symbol $\\lor$ for the logical `or` operation that we introduced.\n",
    "\n",
    "*The math notation used by Colab is very similar to the widely used LaTeX notation for writing mathematical and scientific documents. Most of your CS and math professors write their scientific papers using the LaTeX markup language. In Colab, the mathematical typesetting is handled by an online utility called [MathJax](https://www.mathjax.org/). In case you have used LaTeX before, you'll find that almost all of the symbol commands are the same.*\n",
    "\n",
    "## Exercise 3\n",
    "\n",
    "Consider the sentence \"Either it will not rain or it will snow.\"\n",
    "\n",
    "- Let $p$ be the proposition that it will rain.\n",
    "- Let $q$ be the proposition that it will snow.\n",
    "\n",
    "In the markdown cell below, use math commands to write this sentence in logical symbols. You may wish to use the symbols `\\lor`, `\\land`, and `\\lnot`.  "
   ]
  },
  {
   "cell_type": "markdown",
   "execution_count": null,
   "metadata": {
    "id": "-P6e5FUaOYXC"
   },
   "outputs": [],
   "source": []
  },
  {
   "cell_type": "markdown",
   "execution_count": null,
   "metadata": {
    "id": "f1MJ6TUrOYXD"
   },
   "outputs": [],
   "source": [
    "# Part C: Truth Tables\n",
    "\n",
    "## Exercise 4\n",
    "\n",
    "\n",
    "Make truth tables for the following two expressions:\n",
    "\n",
    "1. $\\lnot (p \\land q)$\n",
    "2. $\\lnot p \\lor \\lnot q$\n",
    "\n",
    "It's ok to write your truth tables \"casually\" using Markdown, but OPTIONALLY you can also structure them as *tables* using some more advanced LaTeX syntax. Double click into this markdown cell to see how I created the beginnings of a truth table:\n",
    "\n",
    "$$\n",
    "\\begin{array}{c|c|c}\n",
    "p & q & p \\lor q \\\\\n",
    "\\hline\n",
    "T & T & ? \\\\\n",
    "T & F & ? \\\\\n",
    "\\end{array}\n",
    "$$"
   ]
  },
  {
   "cell_type": "markdown",
   "execution_count": null,
   "metadata": {
    "id": "b5ES7MIwOYXD"
   },
   "outputs": [],
   "source": []
  },
  {
   "cell_type": "markdown",
   "execution_count": null,
   "metadata": {},
   "outputs": [],
   "source": [
    "# Part D: The Sum-Of-Products Method\n",
    "\n",
    " Let's suppose that we want to find a logical expression that represents this truth table: \n",
    "\n",
    "$$\n",
    "\\begin{array}{c|c|c}\n",
    "p & q & ? \\\\\n",
    "\\hline\n",
    "T & T & F \\\\\n",
    "T & F & T \\\\\n",
    "F & T & F \\\\\n",
    "F & F & T \\\\\n",
    "\\end{array}\n",
    "$$\n",
    "\n",
    "The *sum-of-products method* is an algorithm that allows us to do this. In the sum-of-products method, we read the truth-table line-by-line. For each line with a $T$ in the final logical expression, we add a term in which each of the individual variables are negated if they appear as an $F$ in that row, and  joined by a logical \"and\" $\\land$. Each term is joined by a logical \"or\" $\\lor$. So, in our truth table above: \n",
    "\n",
    "1. The first line ends with an $F$ and so we don't write a term. \n",
    "2. The second line ends with a $T$, and so we need to include it. $p$ will appear as-is, while $q$ needs to be negated because there is an $F$ in its column. So, our term for this line is $p\\land \\lnot q$. \n",
    "3. The third line ends with an $F$ and so we don't write a term. \n",
    "4. The fourth line ends with a $T$ and so we need to include it. Both $p$ and $q$ have $F$ in their column this time, and so our term is $\\lnot p \\land \\lnot q$. \n",
    "\n",
    "To finish the representation, we join all our terms with $\\lor$, and so our final expression representing this truth table is: \n",
    "\n",
    "$$\n",
    "(p\\land \\lnot q) \\lor (\\lnot p \\land \\lnot q)\\;.\n",
    "$$\n",
    "\n",
    "***Note***: *The term \"sum-of-products\" method comes from boolean algebra, an alternative notation for propositional logic. In boolean algebra, \"$\\lor$\" is written \"$+$\" and $\\land$ is written as a multiplication of variables. Negation is written with a $\\bar{x}$ over a variable $x$. So, in boolean algebra, we would represent this expression as $x\\bar{y} + \\bar{x}\\bar{y}$: a sum of products.*  "
   ]
  },
  {
   "cell_type": "markdown",
   "execution_count": null,
   "metadata": {},
   "outputs": [],
   "source": [
    "## Exercise 5.1 \n",
    "\n",
    "The sum-of-products method is not always very efficient! Write a much simpler logical expression with the same truth table as shown in the example above. "
   ]
  },
  {
   "cell_type": "markdown",
   "execution_count": null,
   "metadata": {},
   "outputs": [],
   "source": []
  },
  {
   "cell_type": "markdown",
   "execution_count": null,
   "metadata": {},
   "outputs": [],
   "source": [
    "## Exercise 5.2 \n",
    "\n",
    "Make a truth table for the logical expression \n",
    "\n",
    "$$\n",
    "(p \\lor \\lnot q) \\land (\\lnot q \\land r)\n",
    "$$"
   ]
  },
  {
   "cell_type": "markdown",
   "execution_count": null,
   "metadata": {},
   "outputs": [],
   "source": []
  },
  {
   "cell_type": "markdown",
   "execution_count": null,
   "metadata": {},
   "outputs": [],
   "source": [
    "## Exercise 5.3\n",
    "\n",
    "Using your truth table for the expression above, write down the representation derived from the sum-of-products method. \n",
    "\n",
    "*Note that there are three variables, so your truth table should have 8 rows*. "
   ]
  },
  {
   "cell_type": "markdown",
   "execution_count": null,
   "metadata": {},
   "outputs": [],
   "source": []
  },
  {
   "cell_type": "markdown",
   "execution_count": null,
   "metadata": {},
   "outputs": [],
   "source": [
    "## Exercise 5.4\n",
    "\n",
    "Suppose that we are designing a circuit which needs to perform a logical operation. Each symbol $\\lnot$, $\\land$, $\\lor$ corresponds to a \"gate\" that we'll include in our circuit. We can construct our circuit using either the given expression from Exercise 5.2 or the sum-of-products expression that you found in exercise 5.3. How many gates would be needed in each case? "
   ]
  },
  {
   "cell_type": "markdown",
   "execution_count": null,
   "metadata": {},
   "outputs": [],
   "source": []
  },
  {
   "cell_type": "markdown",
   "execution_count": null,
   "metadata": {
    "id": "0ZhFouVhOYXD"
   },
   "outputs": [],
   "source": [
    "# Part E: From Logic to Python\n",
    "\n",
    "Here is a Python function that, given two Boolean arguments $p$ and $q$, returns $p \\land q$:"
   ]
  },
  {
   "cell_type": "code",
   "execution_count": null,
   "metadata": {
    "id": "W6-m-S4YOYXD"
   },
   "outputs": [],
   "source": [
    "def land(p, q):\n",
    "    return p and q"
   ]
  },
  {
   "cell_type": "markdown",
   "execution_count": null,
   "metadata": {
    "id": "StIbA_KQOYXE"
   },
   "outputs": [],
   "source": [
    "Here's a sample function that computes a truth table for a user-supplied logical function `f` that accepts two logical arguments:"
   ]
  },
  {
   "cell_type": "code",
   "execution_count": null,
   "metadata": {
    "id": "zACbrTyTOYXE"
   },
   "outputs": [],
   "source": [
    "from itertools import product\n",
    "def truth_table(fun):\n",
    "    print(\"p   q   f\")\n",
    "    print(\"---------\")\n",
    "    for p, q in product([True, False], [True, False]):\n",
    "        print(\"T\" if p else \"F\", end = \" | \")\n",
    "        print(\"T\" if q else \"F\", end = \" | \")\n",
    "        print(\"T\" if fun(p, q) else \"F\")"
   ]
  },
  {
   "cell_type": "markdown",
   "execution_count": null,
   "metadata": {
    "id": "aB8F_WRZOYXE"
   },
   "outputs": [],
   "source": [
    "When used on the example `land` function for the logical and $\\land$ operation, we obtain the following output:"
   ]
  },
  {
   "cell_type": "code",
   "execution_count": null,
   "metadata": {
    "id": "W3cS4L0lOYXE",
    "outputId": "1827cb42-6835-4c98-bcfb-95eeb92a4813"
   },
   "outputs": [],
   "source": [
    "truth_table(land)"
   ]
  },
  {
   "cell_type": "markdown",
   "execution_count": null,
   "metadata": {
    "id": "ie-UOFDHOYXF"
   },
   "outputs": [],
   "source": [
    "## Exercise 6\n",
    "\n",
    "Write Python functions which implement the following logical operations. For each one, use the `truth_table` function above to display the truth table of the logical expression:\n",
    "\n",
    "1. $\\lnot p \\lor q$\n",
    "2. $p \\lor (q \\land \\lnot p) \\lor \\lnot p$\n",
    "3. $\\lnot p \\land q$\n",
    "4. $\\lnot (p \\land \\lnot q)$\n",
    "\n",
    "Two logical expressions are *logically equivalent* if they have exactly the same final column in their truth tables. Which of these expressions are logically equivalent to which other expressions?\n",
    "\n",
    "*Note*: You will want to use Python constructions like:\n",
    "\n",
    "- `p and q`\n",
    "- `not p`\n",
    "- `p or q`"
   ]
  },
  {
   "cell_type": "code",
   "execution_count": null,
   "metadata": {
    "id": "ArKyKRmeOYXF"
   },
   "outputs": [],
   "source": [
    "# Exercise 6.1: implement your function and call truth_table to display\n",
    "\n"
   ]
  },
  {
   "cell_type": "code",
   "execution_count": null,
   "metadata": {
    "id": "pGuhC9LROYXF"
   },
   "outputs": [],
   "source": [
    "# Exercise 6.2: implement your function and call truth_table to display\n",
    "\n"
   ]
  },
  {
   "cell_type": "code",
   "execution_count": null,
   "metadata": {
    "id": "eHyFinmCOYXF"
   },
   "outputs": [],
   "source": [
    "# Exercise 6.3: implement your function and call truth_table to display\n",
    "\n"
   ]
  },
  {
   "cell_type": "code",
   "execution_count": null,
   "metadata": {
    "id": "mWa7Qga_OYXF"
   },
   "outputs": [],
   "source": [
    "# Exercise 6.4: implement your function and call truth_table to display\n",
    "\n"
   ]
  },
  {
   "cell_type": "markdown",
   "execution_count": null,
   "metadata": {
    "id": "uDqd4z1FOYXG"
   },
   "outputs": [],
   "source": [
    "Exercise 6.5: which of these expressions are logically equivalent to which other expressions?\n",
    "\n",
    "::: {.solution .hide}\n",
    "\n",
    "**SOLUTION**: *Expressions 1 and 4 are equivalent. Expressions 2 and 3 are not equivalent to 1 and 4 or to each other.*\n",
    "\n",
    ":::"
   ]
  },
  {
   "cell_type": "markdown",
   "execution_count": null,
   "metadata": {
    "id": "u2CP0tCQOYXG"
   },
   "outputs": [],
   "source": [
    "## Exercise 7\n",
    "\n",
    "Here are two Python functions that implement a logical operation with three arguments. For each one, write down the logical operation performed, using the symbols $\\lnot$, $\\lor$, and $\\land$. Then, answer the following questions:\n",
    "\n",
    "1. Which function do you find easier to read as code, and why?\n",
    "2. Which function do you find easier to transcribe into logical symbols, and why?\n",
    "\n",
    "You don't have to construct truth tables for these functions, although you're welcome to."
   ]
  },
  {
   "cell_type": "code",
   "execution_count": null,
   "metadata": {
    "id": "sxPa_lBWOYXG"
   },
   "outputs": [],
   "source": [
    "def f_1(p, q, r):\n",
    "    a = p and q\n",
    "    b = r or q\n",
    "    c = not (a or b)\n",
    "    return c\n",
    "\n",
    "def f_2(p, q, r):\n",
    "    return (p and q) or ((r or p) and (r or q))"
   ]
  },
  {
   "cell_type": "markdown",
   "execution_count": null,
   "metadata": {
    "id": "Ow9rR4WfOYXG"
   },
   "outputs": [],
   "source": [
    "A logical expression describing `f_1` is:\n",
    "\n",
    "\n",
    "\n",
    "A logical expression describing `f_2` is:\n",
    "\n",
    "\n",
    "\n",
    "Which function do you find easier to read as code, and why?\n",
    "\n",
    "\n",
    "\n",
    "Which function do you find easier to transcribe into logical symbols, and why?\n",
    "\n",
    "\n"
   ]
  },
  {
   "cell_type": "markdown",
   "execution_count": null,
   "metadata": {
    "id": "8rTGJRBxOYXG"
   },
   "outputs": [],
   "source": [
    "# Part F: Reflection\n",
    "\n",
    "Your friend (sadly not in the class) asks you what you did in your first CSCI 0200 lab. Write a paragraph for your friend in which you describe what you did. Please include responses to the following:   \n",
    "\n",
    "1. Approximately how long did you spend completing this lab, including your time in-class on Friday?\n",
    "2. Big picture, how would you describe what this lab was about?\n",
    "3. What are three skills you learned or practiced in this lab?\n",
    "4. What is a way in which your group supported your learning during this lab?\n",
    "5. What's something you found interesting, stimulating, or fun about this lab?\n",
    "6. What's something you found challenging, disappointing, or frustrating about this lab?\n",
    "\n"
   ]
  },
  {
   "cell_type": "markdown",
   "execution_count": null,
   "metadata": {
    "id": "lGgp5MKEOYXG"
   },
   "outputs": [],
   "source": [
    "# Part G: Turn It In!\n",
    "\n",
    "To submit this lab, you need to turn it into a PDF. To do that:\n",
    "\n",
    "1. Go to the very first Markdown cell of this notebook and fill in the names of yourself and your group members.\n",
    "2. Make sure that all your Markdown cells have rendered (they should look like nice, sans serif text rather than `monotype` raw text).\n",
    "3. Choose File --> Print and print/save as a PDF. Exactly how to do this might depend on your operating system or browser.\n",
    "4. Finally, submit the PDF file on Canvas.  "
   ]
  }
 ],
 "metadata": {
  "colab": {
   "include_colab_link": true,
   "provenance": []
  },
  "kernelspec": {
   "display_name": "teaching",
   "language": "python",
   "name": "python3"
  },
  "language_info": {
   "codemirror_mode": {
    "name": "ipython",
    "version": 3
   },
   "file_extension": ".py",
   "mimetype": "text/x-python",
   "name": "python",
   "nbconvert_exporter": "python",
   "pygments_lexer": "ipython3",
   "version": "3.9.13"
  }
 },
 "nbformat": 4,
 "nbformat_minor": 0
}
