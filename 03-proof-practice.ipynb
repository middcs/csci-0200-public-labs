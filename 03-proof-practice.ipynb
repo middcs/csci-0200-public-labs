{
 "cells": [
  {
   "cell_type": "markdown",
   "execution_count": null,
   "metadata": {},
   "outputs": [],
   "source": [
    "# Lab 3: Proof Practice\n",
    "\n",
    "- [Your name]\n",
    "- [The name of one of your group members]\n",
    "- [The name of your other group member]\n",
    "\n",
    "## Collaboration Statement\n",
    "\n",
    "[*Please describe the contributions of each group member. Please also describe the support you received from Course Assistants, other classmates, and any online resources such as StackExchange or ChatGPT.*]\n",
    "\n",
    "**Learning Objectives**:\n",
    "\n",
    "- You will practice *assessing which proof technique* to use for a given problem. \n",
    "- You will continue to practice correctly typesetting proofs using the LaTeX typesetting system. \n",
    "\n",
    "**Assessment**: \n",
    "\n",
    "Labs are assessed according to [the posted EMRN rubric](https://www.philchodrow.prof/CSCI-0200/pages/lab-assessment.html).\n",
    "\n",
    "# General Instructions\n",
    "\n",
    "During the lab period, **you should not be typing**. You can use your device to look at the lab instructions and for quick checks, but now is not the time for typing. Instead, you should work with your group at your board. \n",
    "\n",
    "- Remember your group norms from Lab 1. \n",
    "- When writing proofs on the whiteboard, please pass the marker **after each sentence**.\n",
    "- Every group member should take a picture before erasing anything. \n",
    "\n",
    "## For This Lab \n",
    "\n",
    "This is a lab in which you will practice choosing the correct proof technique for a given problem. By now, we have learned several proof techniques: \n",
    "\n",
    "- Element Method\n",
    "- Direct Proof \n",
    "- Proof by Contrapositive\n",
    "- Proof by Division into Cases \n",
    "- Proof by Contradiction \n",
    "\n",
    "Each of the problems below will ask you to write a proof. **Please begin your proof by stating which proof technique you are using**. Here are some examples of good starts: \n",
    "\n",
    "- **We will prove the claim using the element method**. Let $x \\in A$...\n",
    "- **We will prove the claim by division into cases**. Suppose first that $x$ is negative...\n",
    "- **We will prove the claim by contradiction**. Suppose therefore that \\[thing to be proven\\] is *not* true. Then...\n",
    "\n",
    "## How Many Proofs? \n",
    "\n",
    "There are a total of 5 problems on this lab. For an **M**, it is sufficient to submit high quality for **4** of them. For an **E**, please submit all 5. "
   ]
  },
  {
   "cell_type": "markdown",
   "execution_count": null,
   "metadata": {},
   "outputs": [],
   "source": [
    "# Part A\n",
    "\n",
    "Prove that, if $x$ is a rational number and $y$ is an irrational number, then $x - y$ is an irrational number. \n",
    "\n",
    "***Hint***: you will likely need to remember how to cross-multiply fractions. You may use without proof that the sum, difference, and product of two integers are also integers. "
   ]
  },
  {
   "cell_type": "markdown",
   "execution_count": null,
   "metadata": {},
   "outputs": [],
   "source": [
    " "
   ]
  },
  {
   "cell_type": "markdown",
   "execution_count": null,
   "metadata": {},
   "outputs": [],
   "source": [
    "# Part B\n",
    "\n",
    "Prove the following statement: \n",
    "\n",
    "**Claim**: For any integer $n$, $n$ is even *if and only if* $4 | (n^2 - 4n)$. \n",
    "\n",
    "*Recall*: For integers $a$ and $b$, $a|b$ means that $a$ divides $b$ without remainder. "
   ]
  },
  {
   "cell_type": "markdown",
   "execution_count": null,
   "metadata": {},
   "outputs": [],
   "source": [
    " "
   ]
  },
  {
   "cell_type": "markdown",
   "execution_count": null,
   "metadata": {},
   "outputs": [],
   "source": [
    "# Part C\n",
    "\n",
    "Prove the following statement, using any proof method. There may be multiple good approaches. \n",
    "\n",
    "\n",
    "**Claim**: For all $x \\in \\mathbb{R}$, \n",
    "\n",
    "$$\n",
    "|x - 2| \\geq |x| - 2\\;.\n",
    "$$\n",
    "\n",
    "**Note**: *Recall that* \n",
    "\n",
    "$$\n",
    "|x| = \\begin{cases} \n",
    "\\phantom{-}x&\\quad x \\geq 0 \\\\ \n",
    "-x &\\quad x < 0\\;.\n",
    "\\end{cases}\n",
    "$$"
   ]
  },
  {
   "cell_type": "markdown",
   "execution_count": null,
   "metadata": {},
   "outputs": [],
   "source": []
  },
  {
   "cell_type": "markdown",
   "execution_count": null,
   "metadata": {},
   "outputs": [],
   "source": [
    "# Part D\n",
    "\n",
    "Prove the following statement: \n",
    "\n",
    "**Claim**: Let \n",
    "\n",
    "$$\n",
    "\\begin{aligned}\n",
    "A &= \\{ (x, y) \\in \\mathbb{R}\\times \\mathbb{R}\\;:\\; x^2 + y^2 < 1 \\} \\\\ \n",
    "B &= \\{(x, y) \\in \\mathbb{R}\\times \\mathbb{R}\\;:\\;  (|x| \\leq 1) \\land (|y| \\leq 1) \\}\n",
    "\\end{aligned}\n",
    "$$\n",
    "\n",
    "Then, $A \\subseteq B$. \n",
    "\n",
    "*Note*: geometrically, this says that a circle of radius 1 (the set $A$) can be contained inside a square of side-length 2 (the set $B$). \n",
    "\n",
    "***Hint***: You may use without proof the fact that, if $0 < b < a$, then $\\sqrt{a - b} < \\sqrt{a}$ for all real numbers $a$ and $b$. You may also use the fact that, if $c^2 < d$, then $|c| < \\sqrt{d}$. "
   ]
  },
  {
   "cell_type": "markdown",
   "execution_count": null,
   "metadata": {},
   "outputs": [],
   "source": []
  },
  {
   "cell_type": "markdown",
   "execution_count": null,
   "metadata": {},
   "outputs": [],
   "source": [
    "# Part E\n",
    "\n",
    "**Claim**: For any real numbers $x$ and $y$, if $x < y$, then there exists a real number $x$ such that $x < z < y$. \n",
    "\n",
    "\n",
    "**Note**: to complete this part, you may consider using a new technique called *proof by construction*. Proof by construction is used for existence proofs. To complete a proof by construction, assume that $x < y$ and then *construct* (give a formula for) a $z$ that has the desired property in terms of $x$ and $y$. \n",
    "\n",
    "**Hint**: Try the midpoint of $x$ and $y$. You need to both give a formula for the point $z$ you choose and *prove* that it has all the required properties. "
   ]
  },
  {
   "cell_type": "markdown",
   "execution_count": null,
   "metadata": {},
   "outputs": [],
   "source": [
    " "
   ]
  },
  {
   "cell_type": "markdown",
   "execution_count": null,
   "metadata": {},
   "outputs": [],
   "source": [
    "# Part F\n",
    "\n",
    "Please review the list of guidelines for mathematical writing in [Book of Proof Chapter 5.3](https://www.people.vcu.edu/~rhammack/BookOfProof/Main.pdf#page=145). Then, check carefully that each of your written proofs in the previous parts does not violate any of the items on this checklist. Revise if necessary before turning in your lab report. \n",
    "\n",
    "**Optional Suggestion**: trade your draft lab report with a group member or another student in the class. Ask them to identify places in which your lab report should be revised in order to align with the list of guidelines, and do the same for then. Then, each of you can revise in response to your feedback. If you do this with a peer, please name them in your collaboration statement at the beginning of this lab report. \n",
    "\n",
    "*You are likely to write better proofs this way, but it's not required.* "
   ]
  },
  {
   "cell_type": "markdown",
   "execution_count": null,
   "metadata": {},
   "outputs": [],
   "source": [
    "# Part G: Reflection\n",
    "\n",
    "Write a paragraph in response to the following prompt: \n",
    "\n",
    "1. Approximately how long did it take you to complete this lab, **including Friday's in-class lab time**? \n",
    "2. Big picture, how would you describe what this lab was about?\n",
    "3. What are three skills you learned or practiced in this lab?\n",
    "4. What is a way in which your group supported your learning during this lab?\n",
    "5. What's something you found interesting, stimulating, or fun about this lab?\n",
    "6. What's something you found challenging, disappointing, or frustrating about this lab?\n"
   ]
  },
  {
   "cell_type": "markdown",
   "execution_count": null,
   "metadata": {},
   "outputs": [],
   "source": []
  },
  {
   "cell_type": "markdown",
   "execution_count": null,
   "metadata": {},
   "outputs": [],
   "source": [
    "[*Your reflection here*]"
   ]
  }
 ],
 "metadata": {
  "kernelspec": {
   "display_name": "Python 3",
   "language": "python",
   "name": "python3"
  },
  "language_info": {
   "codemirror_mode": {
    "name": "ipython",
    "version": 3
   },
   "file_extension": ".py",
   "mimetype": "text/x-python",
   "name": "python",
   "nbconvert_exporter": "python",
   "pygments_lexer": "ipython3",
   "version": "3.9.13"
  }
 },
 "nbformat": 4,
 "nbformat_minor": 2
}
