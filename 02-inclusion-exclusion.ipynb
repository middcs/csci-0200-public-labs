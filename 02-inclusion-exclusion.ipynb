{
 "cells": [
  {
   "cell_type": "markdown",
   "metadata": {},
   "source": [
    "# Lab 2: Set Cardinality and Inclusion-Exclusion\n",
    "\n",
    "- [Your name]\n",
    "- [The name of one of your group members]\n",
    "- [The name of your other group member]\n",
    "\n",
    "## Collaboration Statement\n",
    "\n",
    "[*Please describe the contributions of each group member. Please also describe the support you received from Course Assistants, other classmates, and any online resources such as StackExchange or ChatGPT.*]\n",
    "\n",
    "**Learning Objectives**:\n",
    "\n",
    "- You will practice performing mathematical operations on sets, especially the cardinality of sets formed from other sets. \n",
    "- You will continue to practice with writing mathematics and creating symbols with LaTeX. \n",
    "\n",
    "**Assessment**: \n",
    "\n",
    "Labs are assessed according to [the posted EMRN rubric](https://www.philchodrow.prof/CSCI-0200/pages/lab-assessment.html).\n",
    "\n",
    "# Instructions\n",
    "\n",
    "In Parts A-C, **you should not be typing during the lab period**. You can use your device to look at the lab instructions and for quick checks, but now is not the time for typing. Instead, you should work with your group at your board or on your mini-boards on the specified problems. \n",
    "\n",
    "- Remember your group norms from Lab 1. \n",
    "- Pass the marker often, *at minimum* twice in every Part. \n",
    "- Every group member should take a picture before erasing anything. \n",
    "- Don't forget to complete the Collaboration Statement at the top of this document after you are done with the lab. \n"
   ]
  },
  {
   "cell_type": "markdown",
   "metadata": {},
   "source": [
    "## Part A\n",
    "\n",
    "### Exercise A.1\n",
    "\n",
    "Draw a Venn diagram with two intersecting sets $A$ and $B$. By referring to your Venn diagram, write an explanation of the *inclusion-exclusion formula*: \n",
    "\n",
    "$$\n",
    "\\lvert A \\cup B \\rvert = \\lvert A \\rvert + \\lvert B \\rvert - \\lvert A \\cap B \\rvert. \n",
    "$$\n",
    "\n",
    "You should write your explanation on the whiteboard beside your diagram. Take a picture of your diagram and explanation and save it somewhere where you can find it again.\n",
    "\n",
    "### (*After Lab*)\n",
    "\n",
    "Based on your whiteboard work, give a carefully edited, typed version of your explanation, using mathematical symbols as appropriate.  \n",
    "\n",
    "*Note: it would be great if you could show us a picture of your Venn diagram! Unfortunately, students last time learned that Google Colab does not play at all nicely with uploaded pictures.* ☹️ \n"
   ]
  },
  {
   "cell_type": "markdown",
   "metadata": {},
   "source": [
    "\n"
   ]
  },
  {
   "cell_type": "markdown",
   "metadata": {},
   "source": [
    "## Part B\n",
    "\n",
    "### Exercise B.1\n",
    "\n",
    "Draw a Venn diagram with *3* intersecting sets $A$, $B$, and $C$. Label each region of the diagram. Use your Venn diagram to conjecture an inclusion-exclusion formula for the expression $\\lvert A \\cup B \\cup C\\rvert$. You should explain your formula but you don't need to write a formal proof. \n",
    "\n",
    "Take a picture of your Venn diagram and your whiteboard explanation and save it somewhere where you can find it again."
   ]
  },
  {
   "cell_type": "markdown",
   "metadata": {},
   "source": []
  },
  {
   "cell_type": "markdown",
   "metadata": {},
   "source": [
    "## Part C \n",
    "\n",
    "Now let's perform an *algebraic* derivation of the 3-set inclusion-exclusion formula. To do this, let's define $D = B \\cup C$. Then, we can write \n",
    "\n",
    "$\\lvert A \\cup B \\cup C\\rvert = \\lvert A \\cup D\\rvert\\;.$\n",
    "\n",
    "- First, apply the two-set inclusion-exclusion formula to the righthand side of this expression. \n",
    "- Then, apply the two-set inclusion exclusion formula *again* to simplify the expressions that result. You may need to do this several times times. \n",
    "- During this process, you will  find it useful to use one of the *distributive laws*: \n",
    "\n",
    "$$\n",
    "A \\cap (B \\cup C) = (A \\cap B) \\cup (A \\cap C)\n",
    "$$\n",
    "\n",
    "### Exercise C.1\n",
    "\n",
    "Following this strategy write a derivation (a computation leading to the desired formula) **on the whiteboard**. Justify each of your steps by citing a formula or identity that we have introduced in the course so far. Take a picture of your derivation once you're done. \n",
    "\n",
    "### (*After Lab*)\n",
    " \n",
    "Type your derivation below. If you'd like to write sequential equations, which are very suitable for calculations like this one, click into this Markdown cell to see how I did this: \n",
    "\n",
    "$$\n",
    "\\begin{aligned}\n",
    "x &= y  &\\text{(a justification)}\\\\ \n",
    "  & = z &\\text{(another justification)}\\;. \n",
    "\\end{aligned}\n",
    "$$"
   ]
  },
  {
   "cell_type": "markdown",
   "metadata": {},
   "source": []
  },
  {
   "cell_type": "markdown",
   "metadata": {},
   "source": [
    "## Part D \n",
    "\n",
    "*You should run each of the Python cells in this part, including the ones that don't require you to write any new code*. \n",
    "\n",
    "Now let's test our mathematical theory against computational experiments. \n",
    "\n",
    "The following function will compute the size of a union of any number of provided sets. "
   ]
  },
  {
   "cell_type": "code",
   "execution_count": null,
   "metadata": {},
   "outputs": [],
   "source": [
    "def union_size(A, *other_sets):\n",
    "    return len(A.union(*other_sets))"
   ]
  },
  {
   "cell_type": "markdown",
   "metadata": {},
   "source": [
    "Here is it in action: "
   ]
  },
  {
   "cell_type": "code",
   "execution_count": null,
   "metadata": {},
   "outputs": [],
   "source": [
    "A = {1, 2, 3}\n",
    "B = {2, 3, 4, 5}\n",
    "C = {3, 4, 7}\n",
    "\n",
    "union_size(A, B, C) # union is {1, 2, 3, 4, 5, 7}"
   ]
  },
  {
   "cell_type": "markdown",
   "metadata": {},
   "source": [
    "Now we're going to write a function that can compute the size of a union using using a different method, using inclusion-exclusion. \n",
    "\n",
    "To get you started on this function, I've populated a function that, when one or more sets are passed as arguments, *prints* all possible combinations of those sets. Then, it returns `0`. "
   ]
  },
  {
   "cell_type": "code",
   "execution_count": null,
   "metadata": {},
   "outputs": [],
   "source": [
    "from itertools import combinations\n",
    "def print_set_combos(A, *other_sets):\n",
    "    union_size = 0\n",
    "    all_sets = other_sets + (A,)\n",
    "    for i in range(1, len(all_sets) + 1):\n",
    "        for sets in combinations(all_sets, i):\n",
    "            print(sets)\n",
    "    return union_size        "
   ]
  },
  {
   "cell_type": "markdown",
   "metadata": {},
   "source": [
    "Here it is in action: "
   ]
  },
  {
   "cell_type": "code",
   "execution_count": null,
   "metadata": {},
   "outputs": [],
   "source": [
    "x = print_set_combos(A, B, C)\n",
    "print(f\"the current return value is {x}\")"
   ]
  },
  {
   "cell_type": "markdown",
   "metadata": {},
   "source": [
    "### Exercise D.1\n",
    "\n",
    "Modify this the `ie_union_size` function so that it correctly computes the size of the union of the input sets using the inclusion-exclusion formula. Your solution should ensure that `ie_union_size` returns the correct result whenever it is passed either 2 or 3 arguments. Show checks using the sets `A`, `B`, and `C` above to show that your function works in these cases. \n",
    "\n",
    "**Specifications**: \n",
    "\n",
    "- For an **M**, it's fine to use an `if`-statement in your solution. For an **E**, do not use any `if`-statements. You may find it helpful to run and think about the following line of code:\n",
    "```python\n",
    "[(-1)**(i+1) for i in range(1, 5)]\n",
    "```\n",
    "\n",
    "**Hints**: \n",
    "\n",
    "- You should add to the variable `union_size` using the syntax `union_size += value_to_add`. \n",
    "- It's possible to solve this problem by replacing the `print` statement with a single careful line of code (under 80 characters), but it's also ok to use more lines. \n",
    "- When `sets` is a tuple of sets, the syntax `sets[0].intersection(*sets[1:])` will compute the intersection of all the elements of `sets`. \n",
    "- You'll need to do something with the *signs* of the cardinalities of sets. It's helpful to look at the number of sets involved. For example, $|A|$ will appear with a $+$ sign but $|A\\cap B|$ will appear with a $-$ sign. What about $|A\\cap B \\cap C|$? What pattern fo you observe?"
   ]
  },
  {
   "cell_type": "code",
   "execution_count": null,
   "metadata": {},
   "outputs": [],
   "source": [
    "# your solution here \n",
    "from itertools import combinations\n",
    "def ie_union_size(A, *other_sets):\n",
    "    union_size = 0\n",
    "    all_sets = other_sets + (A,)\n",
    "    for i in range(1, len(all_sets) + 1):\n",
    "        for sets in combinations(all_sets, i):\n",
    "            # in this part of the loop, the variable sets is a tuple that holds \n",
    "            # some sets. Throughout the loop, all possible combinations of sets\n",
    "            # appear in this tuple. \n",
    "            \n",
    "            # to complete this part, you only need to replace the print statement below with some of your own code that modifies the union_size variable. Nothing else needs to be touched. \n",
    "            print(sets)\n",
    "            \n",
    "    return union_size        "
   ]
  },
  {
   "cell_type": "code",
   "execution_count": null,
   "metadata": {},
   "outputs": [],
   "source": [
    "# please add some checks to show that your solution agrees with union_size when passed either 2 or 3 sets. \n",
    "\n",
    "\n"
   ]
  },
  {
   "cell_type": "markdown",
   "metadata": {},
   "source": [
    "## Part E (optional for **M**, required for **E**)\n",
    "\n",
    "*You can skip this problem if you are satisfied with an M on this lab report. If you are aiming for an E, please complete it.*\n",
    "\n",
    "### Exercise E.1\n",
    "\n",
    "Show a test of your implementation of `ie_union_size` against `union_size` when passed 4 and 5 arguments. If the two functions do not agree, modify `union_size` until they do agree. \n",
    "\n",
    "You may find it helpful to think about the inclusion-exclusion formula for 4 sets, which reads:\n",
    "\n",
    "$$\n",
    "\\begin{aligned}\n",
    "\\lvert A \\cup B \\cup C \\cup D \\rvert &= \\lvert A \\rvert + \\lvert B \\rvert + \\lvert C \\rvert + \\lvert D \\rvert \\\\ \n",
    "&\\quad - \\lvert A \\cap B \\rvert - \\lvert A \\cap C \\rvert - \\lvert A \\cap D \\rvert \\\\ \n",
    "&\\quad - \\lvert C \\cap C \\rvert - \\lvert B \\cap D \\rvert - \\lvert C \\cap D \\rvert \\\\ \n",
    "&\\quad + \\lvert A \\cap B \\cap C \\rvert + \\lvert A \\cap B \\cap D \\rvert \\\\ \n",
    "&\\quad + \\lvert A \\cap C \\cap D \\rvert + \\lvert C \\cap C \\cap D \\rvert \\\\ \n",
    "&\\quad - \\lvert A \\cap B \\cap C \\cap D \\rvert\\;.  \n",
    "\\end{aligned}\n",
    "$$\n",
    "\n",
    "Can you find a pattern that you can generalize and use in your solution? It's not required to prove your pattern -- we'll learn more about how to do that later in the course. "
   ]
  },
  {
   "cell_type": "code",
   "execution_count": null,
   "metadata": {},
   "outputs": [],
   "source": [
    "# Show your tests here using 4 and 5 arguments. \n",
    "# You can use A, B, and C from above, as well as the following two additional sets: \n",
    "\n",
    "D = {3, 6, 7, 8}\n",
    "E = {1, 3, 4, 5, 7}\n",
    "\n",
    "# your tests here\n",
    "\n"
   ]
  },
  {
   "cell_type": "markdown",
   "metadata": {},
   "source": [
    "# Part F: Reflection\n",
    "\n",
    "Write a paragraph in response to the following prompt: \n",
    "\n",
    "1. Approximately how long did it take you to complete this lab, **including Friday's in-class lab time**? \n",
    "2. Big picture, how would you describe what this lab was about?\n",
    "3. What are three skills you learned or practiced in this lab?\n",
    "4. What is a way in which your group supported your learning during this lab?\n",
    "5. What's something you found interesting, stimulating, or fun about this lab?\n",
    "6. What's something you found challenging, disappointing, or frustrating about this lab?\n"
   ]
  },
  {
   "cell_type": "markdown",
   "metadata": {},
   "source": [
    "[*Your reflection here*]"
   ]
  }
 ],
 "metadata": {
  "kernelspec": {
   "display_name": "Python 3",
   "language": "python",
   "name": "python3"
  },
  "language_info": {
   "codemirror_mode": {
    "name": "ipython",
    "version": 3
   },
   "file_extension": ".py",
   "mimetype": "text/x-python",
   "name": "python",
   "nbconvert_exporter": "python",
   "pygments_lexer": "ipython3",
   "version": "3.9.0"
  }
 },
 "nbformat": 4,
 "nbformat_minor": 2
}
