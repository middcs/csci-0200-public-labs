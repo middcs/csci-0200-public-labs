{
 "cells": [
  {
   "cell_type": "markdown",
   "execution_count": null,
   "metadata": {},
   "outputs": [],
   "source": [
    "# Lab 4: Counting Lattice Paths\n",
    "\n",
    "- [Your name]\n",
    "- [The name of one of your group members]\n",
    "- [The name of your other group member]\n",
    "\n",
    "## Collaboration Statement\n",
    "\n",
    "[*Please describe the contributions of each group member. Please also describe the support you received from Course Assistants, other classmates, and any online resources such as StackExchange or ChatGPT.*]\n",
    "\n",
    "**Learning Objectives**:\n",
    "\n",
    "- You will practice using binomial coefficients and the principles of addition, multiplication, and inclusion-exclusion to count lattice paths in special scenarios. \n",
    "- You will implement a Python function for general lattice path-counting and check its correctness against known mathematical results. \n",
    "\n",
    "**Assessment**: \n",
    "\n",
    "Labs are assessed according to [the posted EMRN rubric](https://www.philchodrow.prof/CSCI-0200/pages/lab-assessment.html).\n",
    "\n",
    "## General Instructions\n",
    "\n",
    "Unlike most labs, in this one it's normal to spend time looking at your computer and typing. Please make sure to work with your group and not proceed to the next part until all group members are comfortable with the work you've done on the previous part. "
   ]
  },
  {
   "cell_type": "markdown",
   "execution_count": null,
   "metadata": {},
   "outputs": [],
   "source": [
    "# Introduction\n",
    "\n",
    "In this lab, we are going to write a function for counting the number of paths through lattices. To start (and get a refresher of what we're talking about), run the code block below. This code block will let you read in and visualize the lattices we are going to use in this lab. "
   ]
  },
  {
   "cell_type": "code",
   "execution_count": null,
   "metadata": {},
   "outputs": [],
   "source": [
    "import numpy as np \n",
    "from matplotlib import pyplot as plt \n",
    "from scipy.special import binom\n",
    "\n",
    "def read_lattice(part):\n",
    "    \"\"\"\n",
    "    read a lattice from the course GitHub repository\n",
    "    \n",
    "    params\n",
    "        part: str, the letter label of the lab problem\n",
    "    \n",
    "    return: \n",
    "        np.array, an array representing the lattice. \n",
    "    \"\"\"\n",
    "    base = \"https://raw.githubusercontent.com/middcs/CSCI-0200-public-labs/main/04-lattice-path-data/\" # remote data source\n",
    "    L = np.loadtxt(base + part.lower() + \".txt\")\n",
    "    print(f\"This lattice has {str(L.shape[0])} rows and {str(L.shape[1])} columns.\")\n",
    "    return L\n",
    "    \n",
    "def show_lattice(L):\n",
    "    \"\"\"\n",
    "    visualize a lattice. The lattice is assumed to contain binary entries, with 0 describing blocked cells. The beginning point (bottom left corner) is marked in blue and the end point (top right corner) is marked in orange. \n",
    "    \n",
    "    params: \n",
    "        L, a 2d binary numpy array. \n",
    "    \n",
    "    return: \n",
    "        none\n",
    "    \"\"\"\n",
    "    \n",
    "    # initialize fig\n",
    "    fig, ax = plt.subplots(1)\n",
    "    ax.set_xticks(np.arange(L.shape[1]+1)-.5, minor=True)\n",
    "    ax.set_yticks(np.arange(L.shape[0]+1)-.5, minor=True)\n",
    "    ax.spines[:].set_visible(False)\n",
    "    ax.tick_params(which=\"minor\", bottom=False, left=False)\n",
    "    ax.axis(\"off\")\n",
    "\n",
    "    \n",
    "    # plot the lattice\n",
    "    L_ = np.flip(L, 0)\n",
    "    ax.pcolor(L_, edgecolors='darkgrey', linewidths=0.5, cmap = \"binary_r\", vmax = 1, vmin = -0.5)\n",
    "    ax.set_aspect(\"equal\")\n",
    "    \n",
    "    # mark the beginning and end points\n",
    "    ax.scatter(L.shape[1] - 0.5, L.shape[0] - 0.5, color = \"sandybrown\", edgecolors = \"k\", s = 100)\n",
    "    ax.scatter( 0.5, 0.5, color = \"skyblue\", edgecolors = \"k\", s = 100)"
   ]
  },
  {
   "cell_type": "markdown",
   "execution_count": null,
   "metadata": {},
   "outputs": [],
   "source": [
    "Run the block below to see an example lattice: "
   ]
  },
  {
   "cell_type": "code",
   "execution_count": null,
   "metadata": {},
   "outputs": [],
   "source": [
    "L = read_lattice(\"challenge\")\n",
    "show_lattice(L)"
   ]
  },
  {
   "cell_type": "markdown",
   "execution_count": null,
   "metadata": {},
   "outputs": [],
   "source": [
    "The white cells are passable, while the black cells are walls that we can't walk through. Our aim is to find the number of lattice paths, consisting only of moves up and to the right, that start at the blue beginning point and end at the orange endpoint. But we do **not** want to try to actually find all the paths -- this is going to be hard to code and take way too long even on modestly-sized maps. \n",
    "\n",
    "Here's what we're going to do: \n",
    "\n",
    "1. First, we are going to work some simple examples by hand using binomial coefficients and the principles of addition, multiplication, and inclusion-exclusion. \n",
    "2. Then, we are going to code up our function, using a code skeleton that I'll provide for you. \n",
    "3. Finally, we'll check the results of our function against our mathematical calculations. We'll find perfect agreement, of course! "
   ]
  },
  {
   "cell_type": "markdown",
   "execution_count": null,
   "metadata": {},
   "outputs": [],
   "source": [
    "## Part B\n",
    "\n",
    "Yes, Part B is actually at the front of the lab! Right now, you should just **run the code cell below** (and do so each time you open the lab), but otherwise you don't need to do anything until you've completed Part A. \n",
    "\n",
    "### B.1 \n",
    "\n",
    "Below, I've partially implemented the function `count_lattice_paths`, which accepts a lattice `L` and returns the number of paths from the bottom left to the top right. \n",
    "\n",
    "In order to do this, you are going to use a *recurrence relation* which generalizes the recurrence relation for binomial coefficients in [DMOI 1.2](https://discrete.openmathbooks.org/dmoi3/sec_counting-binom.html). Let $p_{i,j}$ denote the number of lattice paths from cell $(0,0)$ to cell $(i-1,j-1)$ on the lattice (we're starting at $(0, 0)$ and subtracting 1 due to Python's zero-based indexing). Then, \n",
    "\n",
    "$$\n",
    "p_{i,j} = \n",
    "\\begin{cases} \n",
    "    0 &\\quad (i,j) \\text{ is impassable} \\\\ \n",
    "    1 &\\quad (i,j) = (0,0) \\text{ and } (i,j) \\text{ is passable}\\\\ \n",
    "    p_{i-1,0} &\\quad j = 0 \\text{ and } i > 0 \\text{ and } (i,j) \\text{ is passable}\\\\ \n",
    "    p_{0,j-1} &\\quad i = 0 \\text{ and } j > 0 \\text{ and } (i,j) \\text{ is passable}\\\\ \n",
    "    p_{i-1,j} + p_{i, j-1} &\\quad i,j > 0 \\text{ and } (i,j) \\text{ is passable}\n",
    "\\end{cases}\n",
    "$$\n",
    "\n",
    "In the code block below, please fill in an implementation of this logic in the specified parts of the code. I have handled the first case (if $(i,j)$ is impassable) and one of the other cases for you as an example. You need to fill in the other four cases. The syntax in the code `P[i,j]` corresponds to the mathematical symbol $p_{i,j}$ in the mathematical description. "
   ]
  },
  {
   "cell_type": "code",
   "execution_count": null,
   "metadata": {},
   "outputs": [],
   "source": [
    "\n",
    "def count_lattice_paths(L):\n",
    "    \"\"\"\n",
    "    return the number of lattice paths from the bottom left to the top right of a lattice L, specified as a binary np.array in which 0s represent impassable cells.\n",
    "    \n",
    "    params: \n",
    "        L, np.array, a binary array specifying the lattice and obstructions. 1s are passable cells and 0s are impassable cells. \n",
    "        \n",
    "    return: \n",
    "        float, the number of paths in the lattice from the bottom left to the top right that do not pass through any impassable cells. \n",
    "\n",
    "    \"\"\"\n",
    "    \n",
    "    # return(\"count_lattice_paths is not implemented: you'll come back to this in Part H\")\n",
    "\n",
    "    # construct a new array which will hold the path counts\n",
    "    P = np.zeros_like(L)\n",
    "    \n",
    "    # loop through the elements of this array\n",
    "    for i in range(P.shape[0]):\n",
    "        for j in range(P.shape[1]):\n",
    "            \n",
    "            # if cell is impassable, there are 0 paths to that cell\n",
    "            if np.flip(L,0)[i, j] == 0:\n",
    "                P[i,j] = 0\n",
    "\n",
    "            # your code below! Use the \n",
    "            # math description above to compute the correct value of \n",
    "            # p depending on the values of i and j. \n",
    "            # otherwise, if cell is passable: \n",
    "            \n",
    "            # here is one case handled as an example\n",
    "            else: \n",
    "                if (i == 0) and (j != 0):\n",
    "                    P[i,j] = P[i,j-1]\n",
    "            # fill in some more cases below\n",
    "            \n",
    "            \n",
    "    return P[-1,-1]   "
   ]
  },
  {
   "cell_type": "markdown",
   "execution_count": null,
   "metadata": {},
   "outputs": [],
   "source": [
    "### B.2 \n",
    "\n",
    "**Test your code** by re-running the code blocks in Part A in order. You are looking for **exact agreement** between your \"by-hand\" code using binomial coefficients and the result of your implementation of `count_lattice_paths`. If there is any difference between the two answers, then something is off with either your math or your code. \n",
    "\n",
    "**You are done with Part B when you have run all the Part A code and found exact agreement between your binomial coefficients and your `count_lattice_paths` implementation.** You do not need to write any additional commentary or code in Part B. Once you've found exact matches for every example in Part A, you are ready to move on to Part C. \n",
    "\n",
    "*Note*: it is normal for this to be a nonlinear and occasionally frustrating process that requires you to revisit both your mathematical reasoning and your code. "
   ]
  },
  {
   "cell_type": "markdown",
   "execution_count": null,
   "metadata": {},
   "outputs": [],
   "source": [
    "## Part A \n",
    "\n",
    "For each of the following subparts, do the following: \n",
    "\n",
    "1. Run the provided code block to download and view the lattice. \n",
    "2. Using *math*, write an expression describing the number of lattice paths from the blue dot to the orange dot. Give a short explanation of your answer. \n",
    "    - You can typeset binomial coefficients like this: `$\\binom{n}{k}$` renders as $\\binom{n}{k}$. \n",
    "3. Write and run a Python expression using the `binom` function from the `scipy` package to evaluate your mathematical expression. \n",
    "    - You should assign the result to a variable called `number_of_paths_by_hand`, which is assigned value `-1` in the script currently. \n",
    "    - Include a call `print(count_lattice_paths(L))` right below your calculation. We will use this after we complete Part H. \n",
    "\n",
    "**Using binomial coefficients**: I've visualized the lattices a little bit differently than Levin does in DMOI. In particular, we assume that we start on grid square (1, 1). This means that: \n",
    "\n",
    "> **Theorem**: *In a grid of size $m$ rows and $n$ columns with no obstructions, the number of paths from the bottom left corner to the top right corner is $\\binom{m+n-2}{m-1}$. This number is the same as $\\binom{m+n-2}{n-1}$.* \n",
    "\n",
    "\n",
    "Here's an example of a fully-worked solution. Your solutions to the other problems should look very similar. "
   ]
  },
  {
   "cell_type": "markdown",
   "execution_count": null,
   "metadata": {},
   "outputs": [],
   "source": [
    "### A.0 "
   ]
  },
  {
   "cell_type": "code",
   "execution_count": null,
   "metadata": {},
   "outputs": [],
   "source": [
    "# run the code\n",
    "L = read_lattice(\"A0\")\n",
    "show_lattice(L)"
   ]
  },
  {
   "cell_type": "markdown",
   "execution_count": null,
   "metadata": {},
   "outputs": [],
   "source": [
    "#### Mathematical derivation\n",
    "\n",
    "From the theorem given above, we know that the number of lattice paths through a lattice with $m$ rows and $n$ columns is $\\binom{m + n - 2}{m-1}$. So,  the number of lattice paths in this case is $\\binom{8+5-2}{5-1} = \\binom{11}{4}$. "
   ]
  },
  {
   "cell_type": "markdown",
   "execution_count": null,
   "metadata": {},
   "outputs": [],
   "source": [
    "#### Computation"
   ]
  },
  {
   "cell_type": "code",
   "execution_count": null,
   "metadata": {},
   "outputs": [],
   "source": [
    "# 3. compute the result and call print(count_lattice_paths(L)) right under\n",
    "\n",
    "# You only need to change the line directly below this comment with your calculation. \n",
    "number_of_paths_by_hand = binom(11, 4)\n",
    "\n",
    "# no need to touch any of these lines\n",
    "print(f\"By hand  : {number_of_paths_by_hand} paths\")\n",
    "\n",
    "number_of_paths_function = count_lattice_paths(L)\n",
    "print(f\"Function : {number_of_paths_function} paths\")"
   ]
  },
  {
   "cell_type": "markdown",
   "execution_count": null,
   "metadata": {},
   "outputs": [],
   "source": [
    "### A.1"
   ]
  },
  {
   "cell_type": "code",
   "execution_count": null,
   "metadata": {},
   "outputs": [],
   "source": [
    "# 1. run the code\n",
    "L = read_lattice(\"A1\")\n",
    "show_lattice(L)"
   ]
  },
  {
   "cell_type": "markdown",
   "execution_count": null,
   "metadata": {},
   "outputs": [],
   "source": [
    "#### Mathematical derivation\n",
    "\n"
   ]
  },
  {
   "cell_type": "markdown",
   "execution_count": null,
   "metadata": {},
   "outputs": [],
   "source": [
    "#### Computation"
   ]
  },
  {
   "cell_type": "code",
   "execution_count": null,
   "metadata": {},
   "outputs": [],
   "source": [
    "# 3. compute the result and call print(count_lattice_paths(L)) right under\n"
   ]
  },
  {
   "cell_type": "markdown",
   "execution_count": null,
   "metadata": {},
   "outputs": [],
   "source": [
    "### A.2 "
   ]
  },
  {
   "cell_type": "code",
   "execution_count": null,
   "metadata": {},
   "outputs": [],
   "source": [
    "# 1. run the code\n",
    "L = read_lattice(\"A2\")\n",
    "show_lattice(L)"
   ]
  },
  {
   "cell_type": "markdown",
   "execution_count": null,
   "metadata": {},
   "outputs": [],
   "source": [
    "#### Mathematical derivation\n",
    "\n"
   ]
  },
  {
   "cell_type": "markdown",
   "execution_count": null,
   "metadata": {},
   "outputs": [],
   "source": [
    "#### Computation"
   ]
  },
  {
   "cell_type": "code",
   "execution_count": null,
   "metadata": {},
   "outputs": [],
   "source": [
    "# 3. compute the result and call print(count_lattice_paths(L)) right under\n"
   ]
  },
  {
   "cell_type": "markdown",
   "execution_count": null,
   "metadata": {},
   "outputs": [],
   "source": [
    "### A.3\n",
    "\n",
    "***Hint***: *this one is quick if you can figure out the right way to use your answers in A.0 and A.2*."
   ]
  },
  {
   "cell_type": "code",
   "execution_count": null,
   "metadata": {},
   "outputs": [],
   "source": [
    "# 1. run the code\n",
    "L = read_lattice(\"A3\")\n",
    "show_lattice(L)"
   ]
  },
  {
   "cell_type": "markdown",
   "execution_count": null,
   "metadata": {},
   "outputs": [],
   "source": [
    "#### Mathematical derivation\n",
    "\n"
   ]
  },
  {
   "cell_type": "markdown",
   "execution_count": null,
   "metadata": {},
   "outputs": [],
   "source": [
    "#### Computation"
   ]
  },
  {
   "cell_type": "code",
   "execution_count": null,
   "metadata": {},
   "outputs": [],
   "source": [
    "# 3. compute the result and call print(count_lattice_paths(L)) right under\n"
   ]
  },
  {
   "cell_type": "markdown",
   "execution_count": null,
   "metadata": {},
   "outputs": [],
   "source": [
    "### A.4"
   ]
  },
  {
   "cell_type": "code",
   "execution_count": null,
   "metadata": {},
   "outputs": [],
   "source": [
    "# 1. run the code\n",
    "L = read_lattice(\"A4\")\n",
    "show_lattice(L)"
   ]
  },
  {
   "cell_type": "markdown",
   "execution_count": null,
   "metadata": {},
   "outputs": [],
   "source": [
    "#### Mathematical derivation\n",
    "\n"
   ]
  },
  {
   "cell_type": "markdown",
   "execution_count": null,
   "metadata": {},
   "outputs": [],
   "source": [
    "#### Computation"
   ]
  },
  {
   "cell_type": "code",
   "execution_count": null,
   "metadata": {},
   "outputs": [],
   "source": [
    "# 3. compute the result and call print(count_lattice_paths(L)) right under\n"
   ]
  },
  {
   "cell_type": "markdown",
   "execution_count": null,
   "metadata": {},
   "outputs": [],
   "source": [
    "### Once you're done with Part A...\n",
    "\n",
    "Please circle back to the beginning of the lab to work on Part B. Move on to Part C once you're done with Part B.2."
   ]
  },
  {
   "cell_type": "markdown",
   "execution_count": null,
   "metadata": {},
   "outputs": [],
   "source": [
    "## Part C"
   ]
  },
  {
   "cell_type": "markdown",
   "execution_count": null,
   "metadata": {},
   "outputs": [],
   "source": [
    "### C.1 \n",
    "\n",
    "Here is the \"challenge\" lattice from the beginning of the assignment. Use your function `count_lattice_paths` to find the number of paths in this lattice. I do not recommend trying this by hand. "
   ]
  },
  {
   "cell_type": "code",
   "execution_count": null,
   "metadata": {},
   "outputs": [],
   "source": [
    "L = read_lattice(\"challenge\")\n",
    "show_lattice(L)"
   ]
  },
  {
   "cell_type": "code",
   "execution_count": null,
   "metadata": {},
   "outputs": [],
   "source": []
  },
  {
   "cell_type": "markdown",
   "execution_count": null,
   "metadata": {},
   "outputs": [],
   "source": [
    "### C.2 \n",
    "\n",
    "Here's a large lattice with many random obstacles. Run the code to generate the lattice, and then use `count_lattice_paths` to count the number of paths. "
   ]
  },
  {
   "cell_type": "code",
   "execution_count": null,
   "metadata": {},
   "outputs": [],
   "source": [
    "def random_lattice(rows = 20, columns = 30, obstacle_density = 0.1):\n",
    "    np.random.seed(12)\n",
    "    L = 1*(np.random.rand(rows, columns) > obstacle_density)\n",
    "    L[0, L.shape[1]-1] = 1\n",
    "    L[L.shape[0]-1, 0] = 1\n",
    "    return(L)\n",
    "\n",
    "L = random_lattice(30, 40, 0.2)\n",
    "show_lattice(L)"
   ]
  },
  {
   "cell_type": "code",
   "execution_count": null,
   "metadata": {},
   "outputs": [],
   "source": []
  },
  {
   "cell_type": "markdown",
   "execution_count": null,
   "metadata": {},
   "outputs": [],
   "source": [
    "## Part D \n",
    "\n",
    "Take the lattice in Part C that you generated. Imagine for a moment that you were going to solve the lattice path counting problem by writing an algorithm that actually *found* all the possible lattice paths and counted them up. \n",
    "\n",
    "### D.1 \n",
    "\n",
    "Suppose that it took your algorithm $1\\times 10^{-9}$ seconds to compute each path. Approximately how long would it take your algorithm to find all the lattice paths in the lattice above? **Please give your answer in units of days**. You might find it helpful to do some computations in Python with a new cell block. "
   ]
  },
  {
   "cell_type": "code",
   "execution_count": null,
   "metadata": {},
   "outputs": [],
   "source": []
  },
  {
   "cell_type": "markdown",
   "execution_count": null,
   "metadata": {},
   "outputs": [],
   "source": [
    "### D.2\n",
    "\n",
    "Run the code cell below. Python will run `count_lattice_paths` on the lattice `L` several times and compute the mean runtime. "
   ]
  },
  {
   "cell_type": "code",
   "execution_count": null,
   "metadata": {},
   "outputs": [],
   "source": [
    "%timeit count_lattice_paths(L)"
   ]
  },
  {
   "cell_type": "markdown",
   "execution_count": null,
   "metadata": {},
   "outputs": [],
   "source": [
    "How much faster is our implementation of `count_lattice_paths`? Please give your response in *orders of magnitude*. An order of magnitude is a multiple of 10. For example, 7 is two orders of magnitude smaller than 700. \n",
    "\n",
    "**Hints**: \n",
    "\n",
    "- If you first run the line `from math import log10` then you'll be able to use the `log10` function to compute the log base-10 of $x$. This is one way to calculate the order of magnitude change. \n",
    "- A millisecond (ms) is 1/1000 seconds. "
   ]
  },
  {
   "cell_type": "code",
   "execution_count": null,
   "metadata": {},
   "outputs": [],
   "source": []
  },
  {
   "cell_type": "markdown",
   "execution_count": null,
   "metadata": {},
   "outputs": [],
   "source": []
  },
  {
   "cell_type": "markdown",
   "execution_count": null,
   "metadata": {},
   "outputs": [],
   "source": [
    "# Part E: Reflection\n",
    "\n",
    "Write a paragraph in response to the following prompt: \n",
    "\n",
    "1. Approximately how long did it take you to complete this lab, **including Friday's in-class lab time**? \n",
    "2. Big picture, how would you describe what this lab was about?\n",
    "3. What are three skills you learned or practiced in this lab?\n",
    "4. What is a way in which your group supported your learning during this lab?\n",
    "5. What's something you found interesting, stimulating, or fun about this lab?\n",
    "6. What's something you found challenging, disappointing, or frustrating about this lab?\n"
   ]
  },
  {
   "cell_type": "markdown",
   "execution_count": null,
   "metadata": {},
   "outputs": [],
   "source": []
  },
  {
   "cell_type": "markdown",
   "execution_count": null,
   "metadata": {},
   "outputs": [],
   "source": [
    "[*Your reflection here*]"
   ]
  }
 ],
 "metadata": {
  "kernelspec": {
   "display_name": "ml-0451",
   "language": "python",
   "name": "python3"
  },
  "language_info": {
   "codemirror_mode": {
    "name": "ipython",
    "version": 3
   },
   "file_extension": ".py",
   "mimetype": "text/x-python",
   "name": "python",
   "nbconvert_exporter": "python",
   "pygments_lexer": "ipython3",
   "version": "undefined.undefined.undefined"
  }
 },
 "nbformat": 4,
 "nbformat_minor": 2
}
