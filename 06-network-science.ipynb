{
 "cells": [
  {
   "cell_type": "markdown",
   "execution_count": null,
   "metadata": {},
   "outputs": [],
   "source": [
    "# Lab 6: Introduction to Network Science\n",
    "\n",
    "- [Your name]\n",
    "- [The name of one of your group members]\n",
    "- [The name of your other group member]\n",
    "\n",
    "**Learning Objectives**:\n",
    "\n",
    "- You will measure properties of real-world network data sets using tools from graph theory. \n",
    "- You will use entries of the adjacency matrix of a graph to perform computations. \n",
    " \n",
    "**Assessment**: \n",
    "\n",
    "Labs are assessed according to [the posted EMRN rubric](https://www.philchodrow.prof/CSCI-0200/pages/lab-assessment.html).\n",
    "\n",
    "# Collaboration Statement\n",
    "\n",
    "[*Please describe the contributions of each group member. Please also describe the support you received from Course Assistants, other classmates, and any online resources such as StackExchange or ChatGPT.*]\n",
    "\n",
    "# Instructions\n",
    "\n",
    "This lab involves both mathematical writing and coding. \n",
    "\n",
    "\n",
    "- Remember your group norms from Lab 1. \n",
    "- Pass the marker often, *at minimum* twice in every Part. \n",
    "- Every group member should take a picture before erasing anything. "
   ]
  },
  {
   "cell_type": "markdown",
   "execution_count": null,
   "metadata": {},
   "outputs": [],
   "source": [
    "# Introduction\n",
    "\n",
    "*Network science* is the scientific study of connected systems using tools from mathematics and computer science. In network science, we often find ourselves faced with a *graph data set* describing a real-world connected system. Our scientific task is to measure properties of this graph data set and use our measurements to support theories about how the system works. \n",
    "\n",
    "*Network science is Phil's research area -- it's what he likes to spend time thinking about when he's not teaching.* \n",
    "\n",
    "For example, the code below creates and visualizes two graphs: \n",
    "\n",
    "- The Zachary Karate Club is a famous graph data set. Researcher Wayne Zachary collected data on the social relationships between 34 members of a university karate club. Each vertex is a member of the club. An edge between vertices $i$ and $j$ means that individuals $i$ and $j$ interacted socially outside the club. \n",
    "    - Zachary, W. W. (1977). \"An Information Flow Model for Conflict and Fission in Small Groups\". *Journal of Anthropological Research*. 33 (4): 452–473.\n",
    "- Beside the Zachary Karate Club, I've also created a *fake* graph that doesn't come from a real-world data set. This fake graph is engineered to have the same number of nodes and edges, but it is otherwise random. \n",
    "\n"
   ]
  },
  {
   "cell_type": "code",
   "execution_count": null,
   "metadata": {},
   "outputs": [],
   "source": [
    "import networkx as nx\n",
    "from matplotlib import pyplot as plt \n",
    "import numpy as np\n",
    "\n",
    "np.random.seed(123)\n",
    "\n",
    "# prepare the figure\n",
    "fig, axarr = plt.subplots(1, 2, figsize = (10, 4))\n",
    "\n",
    "# draw the real network\n",
    "karate = nx.karate_club_graph()\n",
    "pos = nx.fruchterman_reingold_layout(karate)\n",
    "nx.draw(karate, with_labels = True, ax = axarr[0], node_color = \"steelblue\", pos = pos, edgecolors = \"black\", node_size = 200, font_size = 8, edge_color = \"grey\", width = .3)\n",
    "axarr[0].set(title = \"Zachary Karate Club Graph\")\n",
    "\n",
    "# construct the fake network\n",
    "num_nodes = len(karate.nodes)\n",
    "num_edges = len(karate.edges)\n",
    "fake = nx.gnm_random_graph(num_nodes, num_edges)\n",
    "\n",
    "# draw the fake network\n",
    "nx.draw(fake, with_labels = True, ax = axarr[1], node_color = \"lightgrey\", pos = pos, edgecolors = \"black\", node_size = 200, font_size = 8, edge_color = \"grey\", width = .3)\n",
    "title = axarr[1].set(title = \"Fake Graph\")\n"
   ]
  },
  {
   "cell_type": "markdown",
   "execution_count": null,
   "metadata": {},
   "outputs": [],
   "source": [
    "# Part A \n",
    "\n",
    "Based on the picture above: discuss with your group and write down *at least three* things that \"look different\" between the real karate club graph and the fake one. What patterns or interesting features do you notice? "
   ]
  },
  {
   "cell_type": "markdown",
   "execution_count": null,
   "metadata": {},
   "outputs": [],
   "source": []
  },
  {
   "cell_type": "markdown",
   "execution_count": null,
   "metadata": {},
   "outputs": [],
   "source": [
    "## Review: The Adjacency Matrix\n",
    "\n",
    "Recall that the *adjacency matrix* of a graph is a matrix $\\mathbf{A}$, which you can think of as a square array of numbers. This array has $n$ rows and $n$ columns, where $n$ is the number of nodes in the graph. The entry $a_{ij}$ of this array is in the $i$-th row and the $j$-th column. We set \n",
    "\n",
    "$$\n",
    "\\begin{aligned}\n",
    "a_{ij} = \\begin{cases} \n",
    "    1 &\\quad \\{i,j\\}\\text{ is an edge in } G \\\\ \n",
    "    0 &\\quad \\text{otherwise.} \n",
    "\\end{cases}\n",
    "\\end{aligned} \n",
    "$$\n",
    "\n",
    "Since undirected edges go both ways, we always have $a_{ij} = a_{ji}$ for all $i$ and $j$. \n",
    "\n",
    "For example, here is a small graph: "
   ]
  },
  {
   "cell_type": "code",
   "execution_count": null,
   "metadata": {},
   "outputs": [],
   "source": [
    "fig, ax = plt.subplots(1, 1, figsize = (2, 2))\n",
    "small = nx.gnm_random_graph(6, 10)\n",
    "nx.draw(small, with_labels = True,  node_color = \"lightgrey\", edgecolors = \"white\", node_size = 200, font_size = 8, edge_color = \"grey\", width = .3, ax = ax)"
   ]
  },
  {
   "cell_type": "markdown",
   "execution_count": null,
   "metadata": {},
   "outputs": [],
   "source": [
    "Here is the adjacency matrix of this graph: "
   ]
  },
  {
   "cell_type": "code",
   "execution_count": null,
   "metadata": {},
   "outputs": [],
   "source": [
    "A = nx.adjacency_matrix(small).toarray()\n",
    "print(A)"
   ]
  },
  {
   "cell_type": "markdown",
   "execution_count": null,
   "metadata": {},
   "outputs": [],
   "source": [
    "One way to think of the adjacency matrix $\\mathbf{A}$ is as a complete answer to the question: is there a walk of length 1 between nodes $i$ and $j$? If $a_{ij} = 1$, then there is such a walk, and if not, then there isn't. This is because a walk of length 1 is just a hop from one node to another along an existing edge. \n",
    "\n",
    "Our goal is to write a Python function which will return an array containing the number of walks of any integer length $k$ between node $i$ and node $j$. We are going to do this using recursion. \n",
    "\n",
    "# Part B\n",
    "\n",
    "Imagine for a moment that I had already computed a matrix $\\mathbf{W}$ whose entry $w_{ij}$ counted the number of walks of length $k$ between node $i$ and node $j$. Here's a formula that would give the number of walks of length $k+1$: \n",
    "\n",
    "$$\n",
    "w'_{ij} = \\sum_{\\ell = 1}^n w_{i\\ell}a_{\\ell j}\n",
    "$$\n",
    "\n",
    "***At the board***, work with your group to write a brief argument in which you explain why this formula correctly counts the number of walks of length $k+1$ between node $i$ and node $j$. In your argument, please describe where the *multiplication principle* and *addition principle* are being used, and why their use is justified. It is not necessary to write a formal proof. \n",
    "\n",
    "***After lab***, write a careful version of this argument in the space below. \n",
    "\n",
    "**Hint**: A walk of length $k+1$ is a walk of length $k$ plus $1$ more step. \n"
   ]
  },
  {
   "cell_type": "markdown",
   "execution_count": null,
   "metadata": {},
   "outputs": [],
   "source": []
  },
  {
   "cell_type": "markdown",
   "execution_count": null,
   "metadata": {},
   "outputs": [],
   "source": [
    "# Part C\n",
    "\n",
    "The formula from Problem B.1 is often called *matrix multiplication*. The resulting matrix $\\mathbf{W}'$ with entries $w_{ij}'$ is called the *product* of $\\mathbf{W}$ and $\\mathbf{A}$. Written in slightly more general notation, the   *matrix product* of an $n\\times n$ matrix $\\mathbf{A}$ and an $n\\times n$ matrix $\\mathbf{B}$ is the $n\\times n$ matrix $\\mathbf{C}$ that has entries\n",
    "\n",
    "$$\n",
    "c_{ij} = \\sum_{k = 1}^n a_{ik}b_{kj}\n",
    "$$\n",
    "\n",
    "Implement matrix multiplication by completing the function below. I've gotten you started by creating a matrix $\\mathbf{C}$ full of zeros, and illustrated how to populate it using the syntax `C[i,j]`. You need to write a bit more code in order to assign to `C[i,j]` the correct formula as described in the equation above. You may need to add another `for`-loop. You should delete the `pass` statement after adding your code. "
   ]
  },
  {
   "cell_type": "code",
   "execution_count": null,
   "metadata": {},
   "outputs": [],
   "source": [
    "def matrix_multiply(A, B): \n",
    "    \"\"\" \n",
    "    return the product of two square matrices\n",
    "    \n",
    "    args: \n",
    "        A, B: np.array, assumed square\n",
    "        C: np.array, the matrix product of A and B.   \n",
    "    \"\"\"\n",
    "    n = A.shape[0]\n",
    "    C = np.zeros_like(A)\n",
    "    for i in range(n):\n",
    "        for j in range(n):\n",
    "            \n",
    "            pass\n",
    "    \n",
    "    # don't touch below here: \n",
    "    return C "
   ]
  },
  {
   "cell_type": "markdown",
   "execution_count": null,
   "metadata": {},
   "outputs": [],
   "source": [
    "Your function is correct when running the code below prints `\"Test passed!`. "
   ]
  },
  {
   "cell_type": "code",
   "execution_count": null,
   "metadata": {},
   "outputs": [],
   "source": [
    "A = np.random.rand(10, 10)\n",
    "B = np.random.rand(10, 10)\n",
    "\n",
    "# test against numpy built-in matrix multiplication\n",
    "if np.allclose(A@B, matrix_multiply(A, B)):\n",
    "    print(\"Test passed!\")\n",
    "else: \n",
    "    print(\"You still have some work to do...\")"
   ]
  },
  {
   "cell_type": "markdown",
   "execution_count": null,
   "metadata": {},
   "outputs": [],
   "source": [
    "## Part D \n",
    "\n",
    "Now we are ready to implement a function that will compute a matrix of walks of length $k$. We will do this using *recursion*. \n",
    "\n",
    "Here is a partial implementation of such a function, which accepts the adjacency matrix $\\mathbf{A}$ of a graph as its first argument and the desired length of walk to count as its second. Please complete this function using your implementation of `matrix_multiply` above. \n",
    "\n",
    "**You need to write at most 3 lines of code in order to complete this implementation.** You may want to check back on Part B, which is a mathematical description of the recursive logic for this function. You should delete the `pass` statement after implementing your code. "
   ]
  },
  {
   "cell_type": "code",
   "execution_count": null,
   "metadata": {},
   "outputs": [],
   "source": [
    "def count_walks(A, k):\n",
    "    \"\"\"\n",
    "    return a matrix W containing the number of walks of length k between every pair of nodes in the graph. \n",
    "    \n",
    "    args: \n",
    "        A: np.array, the adjacency matrix of a graph. \n",
    "        k: int, the length of walk to count \n",
    "    \n",
    "    return: \n",
    "        W: np.array, a matrix in which entry W[i,j] is the number of walks of   \n",
    "           length k from node i to node j. \n",
    "    \"\"\"\n",
    "    if k == 1:\n",
    "        return A \n",
    "    else: \n",
    "        # print(\"not implemented\")\n",
    "        # solution code \n",
    "        \n",
    "        pass"
   ]
  },
  {
   "cell_type": "markdown",
   "execution_count": null,
   "metadata": {},
   "outputs": [],
   "source": [
    "Your function is correct when running the code below prints `\"Test passed!\"`. "
   ]
  },
  {
   "cell_type": "code",
   "execution_count": null,
   "metadata": {},
   "outputs": [],
   "source": [
    "A = np.random.rand(10, 10)\n",
    "\n",
    "if np.allclose(A@A@A@A, count_walks(A, 4)): \n",
    "    print(\"Test passed!\")\n",
    "else:\n",
    "    print(\"You still have some work to do...\")"
   ]
  },
  {
   "cell_type": "markdown",
   "execution_count": null,
   "metadata": {},
   "outputs": [],
   "source": [
    "# Part E \n",
    "\n",
    "Now we are ready to do some network analysis! An important concept in social network analysis is called ***triadic closure.*** This is just a fancy way to say: \n",
    "\n",
    "> Real social networks have a lot of walks of length 3 that begin and end at the same node. \n",
    "\n",
    "Walks of length 3 that begin and end at the same node are also often called \"3-cycles\" or just \"triangles.\" \n",
    "\n",
    "Complete the function `triangle_count` below. This function accepts a matrix $\\mathbf{A}$ as its argument and returns the number of walks of length 3 that begin and end at the same node. \n",
    "\n",
    "*Hint*: If $\\mathbf{W}$ is a matrix of walks of length $3$ computed using your implementation from Part E, then $w_{ii}$ is the number of walks of length $3$ from node $i$ to itself. "
   ]
  },
  {
   "cell_type": "code",
   "execution_count": null,
   "metadata": {},
   "outputs": [],
   "source": [
    "def triangle_count(A):\n",
    "    n = A.shape[0] # number of nodes in graph represented by A \n",
    "    num_walks = 0\n",
    "    \n",
    "    \n",
    "        \n",
    "    # don't touch below here\n",
    "    return num_walks"
   ]
  },
  {
   "cell_type": "markdown",
   "execution_count": null,
   "metadata": {},
   "outputs": [],
   "source": [
    "Your function is correct when the following code block states that the number of triangles in the example adjacency matrix below is $162$. "
   ]
  },
  {
   "cell_type": "code",
   "execution_count": null,
   "metadata": {},
   "outputs": [],
   "source": [
    "np.random.seed(123)\n",
    "A_ = np.random.rand(10, 10) >= 0.6\n",
    "np.fill_diagonal(A_, 0)\n",
    "A = 1*((A_ + A_.T) >= 1)\n",
    "print(f\"The number triangles in this graph is {triangle_count(A)}.\")"
   ]
  },
  {
   "cell_type": "markdown",
   "execution_count": null,
   "metadata": {},
   "outputs": [],
   "source": [
    "## Part F \n",
    "\n",
    "Finally, let's compare the number of triangles in the karate club network to the number of triangles in the random fake network. First, run the code below. You don't need to write any new code. "
   ]
  },
  {
   "cell_type": "code",
   "execution_count": null,
   "metadata": {},
   "outputs": [],
   "source": [
    "A_karate = nx.adjacency_matrix(karate).toarray()\n",
    "A_fake   = nx.adjacency_matrix(fake).toarray()\n",
    "\n",
    "print(f\"There are {triangle_count(A_karate)} triangles in the real karate club social network.\")\n",
    "print(f\"There are {triangle_count(A_fake)} triangles in the fake network.\")"
   ]
  },
  {
   "cell_type": "markdown",
   "execution_count": null,
   "metadata": {},
   "outputs": [],
   "source": [
    "Briefly comment: \n",
    "\n",
    "- Is there a big difference between the real social network and the fake one?\n",
    "- Are you surprised? "
   ]
  },
  {
   "cell_type": "markdown",
   "execution_count": null,
   "metadata": {},
   "outputs": [],
   "source": [
    "*[Your response here.]*"
   ]
  },
  {
   "cell_type": "markdown",
   "execution_count": null,
   "metadata": {},
   "outputs": [],
   "source": []
  },
  {
   "cell_type": "markdown",
   "execution_count": null,
   "metadata": {},
   "outputs": [],
   "source": [
    "# Part G \n",
    "\n",
    "Write a short paragraph in which you explain why it makes sense that social networks would contain a lot of triangles. \n",
    "\n",
    "*Hint*: are a lot of *your* friends also friends *with each other*? Why is that? "
   ]
  },
  {
   "cell_type": "markdown",
   "execution_count": null,
   "metadata": {},
   "outputs": [],
   "source": [
    "*[Your response here.]*"
   ]
  },
  {
   "cell_type": "markdown",
   "execution_count": null,
   "metadata": {},
   "outputs": [],
   "source": []
  },
  {
   "cell_type": "markdown",
   "execution_count": null,
   "metadata": {},
   "outputs": [],
   "source": [
    "# Part H: Reflection\n",
    "\n",
    "Write a paragraph in response to the following prompt: \n",
    "\n",
    "1. Approximately how long did it take you to complete this lab, **including Friday's in-class lab time**? \n",
    "2. Big picture, how would you describe what this lab was about?\n",
    "3. What are three skills you learned or practiced in this lab?\n",
    "4. What is a way in which your group supported your learning during this lab?\n",
    "5. What's something you found interesting, stimulating, or fun about this lab?\n",
    "6. What's something you found challenging, disappointing, or frustrating about this lab?\n"
   ]
  },
  {
   "cell_type": "markdown",
   "execution_count": null,
   "metadata": {},
   "outputs": [],
   "source": [
    "[*Your reflection here*]"
   ]
  },
  {
   "cell_type": "markdown",
   "execution_count": null,
   "metadata": {},
   "outputs": [],
   "source": []
  }
 ],
 "metadata": {
  "kernelspec": {
   "display_name": "ml-0451",
   "language": "python",
   "name": "python3"
  },
  "language_info": {
   "codemirror_mode": {
    "name": "ipython",
    "version": 3
   },
   "file_extension": ".py",
   "mimetype": "text/x-python",
   "name": "python",
   "nbconvert_exporter": "python",
   "pygments_lexer": "ipython3",
   "version": "undefined.undefined.undefined"
  }
 },
 "nbformat": 4,
 "nbformat_minor": 2
}
